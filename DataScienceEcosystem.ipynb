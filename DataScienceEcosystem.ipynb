{
  "metadata": {
    "kernelspec": {
      "name": "python",
      "display_name": "Python (Pyodide)",
      "language": "python"
    },
    "language_info": {
      "codemirror_mode": {
        "name": "python",
        "version": 3
      },
      "file_extension": ".py",
      "mimetype": "text/x-python",
      "name": "python",
      "nbconvert_exporter": "python",
      "pygments_lexer": "ipython3",
      "version": "3.8"
    }
  },
  "nbformat_minor": 5,
  "nbformat": 4,
  "cells": [
    {
      "id": "16e860c3-ecbe-434f-bd42-c5231f160e8b",
      "cell_type": "markdown",
      "source": "# Data Science Tools and Ecosystem",
      "metadata": {}
    },
    {
      "id": "d1ef1458-61e7-412f-8982-745df22b9b23",
      "cell_type": "markdown",
      "source": "En este cuaderno, se resumen las herramientas y ecosistemas de ciencia de datos.",
      "metadata": {}
    },
    {
      "id": "70839b57-1d28-4f13-bedd-806fdd0d5e08",
      "cell_type": "markdown",
      "source": "**Objetivos:**\n* List popular languages for Data Science.\n* List commonly used libraries in Data Science.\n* Create and share a Jupyter Notebook.\n* Evaluate arithmetic expressions in Python.",
      "metadata": {}
    },
    {
      "id": "072a5cab-53ea-48a0-b69f-e4d07e8d40dc",
      "cell_type": "markdown",
      "source": "Algunos de los lenguajes populares que utilizan los científicos de datos son:\n\n1. Python.\n2. R.\n3. SQL.\n4. Java.",
      "metadata": {}
    },
    {
      "id": "9f5cf184-84a9-44a2-b175-2120952c3f84",
      "cell_type": "markdown",
      "source": "Algunas de las bibliotecas comúnmente utilizadas por los científicos de datos incluyen:\n\n1. TensorFlow.\n2. NumPy.\n3. SciPy.\n4. Pandas.\n5. Matplotlib.",
      "metadata": {}
    },
    {
      "id": "6d450c95-9079-4b0a-8800-5bed23ca31b5",
      "cell_type": "markdown",
      "source": "|Herramientas de Ciencia de Datos|\n|--------------------------------|\n|SAS|\n|BigML|\n|Apache Spark|",
      "metadata": {}
    },
    {
      "id": "25949c02-6ee7-4d69-b7e1-d7f599b90514",
      "cell_type": "markdown",
      "source": "### A continuación, se presentan algunos ejemplos de evaluación de expresiones aritméticas en Python:",
      "metadata": {}
    },
    {
      "id": "5b50dd2d-8559-48a1-af46-367b9cff4095",
      "cell_type": "code",
      "source": "#Esta es una expresión aritmética simple para multiplicar y luego sumar enteros\n(3*4)+5",
      "metadata": {
        "trusted": true
      },
      "outputs": [
        {
          "execution_count": 2,
          "output_type": "execute_result",
          "data": {
            "text/plain": "17"
          },
          "metadata": {}
        }
      ],
      "execution_count": 2
    },
    {
      "id": "d4ae0475-9fba-4f36-a0b6-320908940bdd",
      "cell_type": "code",
      "source": "# Esto convertirá 200 minutos a horas dividiendo por 60\n200/60",
      "metadata": {
        "trusted": true
      },
      "outputs": [
        {
          "execution_count": 3,
          "output_type": "execute_result",
          "data": {
            "text/plain": "3.3333333333333335"
          },
          "metadata": {}
        }
      ],
      "execution_count": 3
    },
    {
      "id": "af91c577-802a-42d3-ad17-9f596efea608",
      "cell_type": "markdown",
      "source": "## Autor\nYarif Arias",
      "metadata": {}
    },
    {
      "id": "d38eb5ac-1750-4c97-8d4c-203321875566",
      "cell_type": "code",
      "source": "",
      "metadata": {
        "trusted": true
      },
      "outputs": [],
      "execution_count": null
    }
  ]
}